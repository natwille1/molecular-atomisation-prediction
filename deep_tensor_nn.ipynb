{
 "cells": [
  {
   "cell_type": "code",
   "execution_count": 1,
   "metadata": {},
   "outputs": [],
   "source": [
    "import numpy as np\n",
    "import pandas as pd\n",
    "import tensorflow as tf\n",
    "import deepchem as dc\n",
    "from deepchem.molnet import load_qm7, load_qm7_from_mat\n",
    "from sklearn.kernel_ridge import KernelRidge\n",
    "import matplotlib.pyplot as plt\n",
    "import seaborn as sns\n",
    "sns.set()\n",
    "from rdkit import Chem\n",
    "from rdkit.Chem.Draw import IPythonConsole, rdMolDraw2D\n",
    "from rdkit.Chem import Draw, rdDepictor\n",
    "from IPython.display import SVG\n",
    "\n",
    "from __future__ import print_function\n",
    "from __future__ import division\n",
    "from __future__ import unicode_literals\n",
    "\n",
    "%matplotlib inline"
   ]
  },
  {
   "cell_type": "code",
   "execution_count": 2,
   "metadata": {},
   "outputs": [
    {
     "name": "stdout",
     "output_type": "stream",
     "text": [
      "TIMING: dataset construction took 0.338 s\n",
      "Loading dataset from disk.\n",
      "TIMING: dataset construction took 0.288 s\n",
      "Loading dataset from disk.\n",
      "TIMING: dataset construction took 0.117 s\n",
      "Loading dataset from disk.\n",
      "TIMING: dataset construction took 0.116 s\n",
      "Loading dataset from disk.\n",
      "TIMING: dataset construction took 0.266 s\n",
      "Loading dataset from disk.\n",
      "TIMING: dataset construction took 0.034 s\n",
      "Loading dataset from disk.\n",
      "TIMING: dataset construction took 0.031 s\n",
      "Loading dataset from disk.\n"
     ]
    }
   ],
   "source": [
    "tasks, datasets, transformers = load_qm7_from_mat(featurizer='CoulombMatrix', split='stratified', \n",
    "                                                      move_mean=True, reload=False)\n",
    "\n",
    "train_dataset, valid_dataset, test_dataset = datasets\n",
    "\n"
   ]
  },
  {
   "cell_type": "code",
   "execution_count": 3,
   "metadata": {},
   "outputs": [
    {
     "data": {
      "text/plain": [
       "(5728, 23, 23)"
      ]
     },
     "execution_count": 3,
     "metadata": {},
     "output_type": "execute_result"
    }
   ],
   "source": [
    "train_dataset.X.shape"
   ]
  },
  {
   "cell_type": "code",
   "execution_count": 5,
   "metadata": {},
   "outputs": [
    {
     "name": "stderr",
     "output_type": "stream",
     "text": [
      "/Users/nathalie.willems/anaconda3/envs/deepchem/lib/python3.5/site-packages/tensorflow/python/ops/gradients_impl.py:110: UserWarning: Converting sparse IndexedSlices to a dense Tensor of unknown shape. This may consume a large amount of memory.\n",
      "  \"Converting sparse IndexedSlices to a dense Tensor of unknown shape. \"\n",
      "/Users/nathalie.willems/anaconda3/envs/deepchem/lib/python3.5/site-packages/tensorflow/python/ops/gradients_impl.py:110: UserWarning: Converting sparse IndexedSlices to a dense Tensor of unknown shape. This may consume a large amount of memory.\n",
      "  \"Converting sparse IndexedSlices to a dense Tensor of unknown shape. \"\n",
      "/Users/nathalie.willems/anaconda3/envs/deepchem/lib/python3.5/site-packages/tensorflow/python/ops/gradients_impl.py:110: UserWarning: Converting sparse IndexedSlices to a dense Tensor of unknown shape. This may consume a large amount of memory.\n",
      "  \"Converting sparse IndexedSlices to a dense Tensor of unknown shape. \"\n",
      "/Users/nathalie.willems/anaconda3/envs/deepchem/lib/python3.5/site-packages/tensorflow/python/ops/gradients_impl.py:110: UserWarning: Converting sparse IndexedSlices to a dense Tensor of unknown shape. This may consume a large amount of memory.\n",
      "  \"Converting sparse IndexedSlices to a dense Tensor of unknown shape. \"\n"
     ]
    },
    {
     "name": "stdout",
     "output_type": "stream",
     "text": [
      "Ending global_step 999: Average loss 0.236288\n",
      "Ending global_step 1999: Average loss 0.0225569\n",
      "Ending global_step 2999: Average loss 0.0124712\n",
      "Ending global_step 3999: Average loss 0.00734025\n",
      "Ending global_step 4999: Average loss 0.0053977\n",
      "Ending global_step 5750: Average loss 0.00432812\n",
      "TIMING: model fitting took 229.261 s\n"
     ]
    },
    {
     "data": {
      "text/plain": [
       "0.004328123228943792"
      ]
     },
     "execution_count": 5,
     "metadata": {},
     "output_type": "execute_result"
    }
   ],
   "source": [
    "# Fit models\n",
    "\n",
    "# Batch size of models\n",
    "batch_size = 50\n",
    "n_embedding = 30\n",
    "n_distance = 51\n",
    "distance_min = -1.\n",
    "distance_max = 9.2\n",
    "n_hidden = 15\n",
    "rate = 0.001\n",
    "\n",
    "model = dc.models.DTNNModel(\n",
    "    len(tasks),\n",
    "    n_embedding=n_embedding,\n",
    "    n_hidden=n_hidden,\n",
    "    n_distance=n_distance,\n",
    "    distance_min=distance_min,\n",
    "    distance_max=distance_max,\n",
    "    output_activation=False,\n",
    "    batch_size=batch_size,\n",
    "    learning_rate=rate,\n",
    "    use_queue=False,\n",
    "    tensorboard=True,\n",
    "    model_dir='dtnn_models/',\n",
    "    mode=\"regression\")\n",
    "\n",
    "# Fit trained model\n",
    "model.fit(train_dataset, nb_epoch=50)\n"
   ]
  },
  {
   "cell_type": "code",
   "execution_count": 8,
   "metadata": {},
   "outputs": [
    {
     "ename": "NotImplementedError",
     "evalue": "",
     "output_type": "error",
     "traceback": [
      "\u001b[0;31m---------------------------------------------------------------------------\u001b[0m",
      "\u001b[0;31mNotImplementedError\u001b[0m                       Traceback (most recent call last)",
      "\u001b[0;32m<ipython-input-8-fd5dede08c85>\u001b[0m in \u001b[0;36m<module>\u001b[0;34m()\u001b[0m\n\u001b[0;32m----> 1\u001b[0;31m \u001b[0mmodel\u001b[0m\u001b[0;34m.\u001b[0m\u001b[0msave\u001b[0m\u001b[0;34m(\u001b[0m\u001b[0;34m)\u001b[0m\u001b[0;34m\u001b[0m\u001b[0m\n\u001b[0m",
      "\u001b[0;32m~/anaconda3/envs/deepchem/lib/python3.5/site-packages/deepchem/models/models.py\u001b[0m in \u001b[0;36msave\u001b[0;34m(self)\u001b[0m\n\u001b[1;32m    107\u001b[0m     \u001b[0mEach\u001b[0m \u001b[0msubclass\u001b[0m \u001b[0;32mis\u001b[0m \u001b[0mresponsible\u001b[0m \u001b[0;32mfor\u001b[0m \u001b[0moverriding\u001b[0m \u001b[0mthis\u001b[0m \u001b[0mmethod\u001b[0m\u001b[0;34m.\u001b[0m\u001b[0;34m\u001b[0m\u001b[0m\n\u001b[1;32m    108\u001b[0m     \"\"\"\n\u001b[0;32m--> 109\u001b[0;31m     \u001b[0;32mraise\u001b[0m \u001b[0mNotImplementedError\u001b[0m\u001b[0;34m\u001b[0m\u001b[0m\n\u001b[0m\u001b[1;32m    110\u001b[0m \u001b[0;34m\u001b[0m\u001b[0m\n\u001b[1;32m    111\u001b[0m   \u001b[0;32mdef\u001b[0m \u001b[0mfit\u001b[0m\u001b[0;34m(\u001b[0m\u001b[0mself\u001b[0m\u001b[0;34m,\u001b[0m \u001b[0mdataset\u001b[0m\u001b[0;34m,\u001b[0m \u001b[0mnb_epoch\u001b[0m\u001b[0;34m=\u001b[0m\u001b[0;36m10\u001b[0m\u001b[0;34m,\u001b[0m \u001b[0mbatch_size\u001b[0m\u001b[0;34m=\u001b[0m\u001b[0;36m50\u001b[0m\u001b[0;34m,\u001b[0m \u001b[0;34m**\u001b[0m\u001b[0mkwargs\u001b[0m\u001b[0;34m)\u001b[0m\u001b[0;34m:\u001b[0m\u001b[0;34m\u001b[0m\u001b[0m\n",
      "\u001b[0;31mNotImplementedError\u001b[0m: "
     ]
    }
   ],
   "source": [
    "model.save()"
   ]
  },
  {
   "cell_type": "code",
   "execution_count": 7,
   "metadata": {},
   "outputs": [
    {
     "data": {
      "text/html": [
       "<div>\n",
       "<style scoped>\n",
       "    .dataframe tbody tr th:only-of-type {\n",
       "        vertical-align: middle;\n",
       "    }\n",
       "\n",
       "    .dataframe tbody tr th {\n",
       "        vertical-align: top;\n",
       "    }\n",
       "\n",
       "    .dataframe thead th {\n",
       "        text-align: right;\n",
       "    }\n",
       "</style>\n",
       "<table border=\"1\" class=\"dataframe\">\n",
       "  <thead>\n",
       "    <tr style=\"text-align: right;\">\n",
       "      <th></th>\n",
       "      <th>test_pred</th>\n",
       "      <th>valid_pred</th>\n",
       "      <th>y_test</th>\n",
       "      <th>y_valid</th>\n",
       "    </tr>\n",
       "  </thead>\n",
       "  <tbody>\n",
       "    <tr>\n",
       "      <th>0</th>\n",
       "      <td>3.282637</td>\n",
       "      <td>3.068421</td>\n",
       "      <td>3.280482</td>\n",
       "      <td>3.049192</td>\n",
       "    </tr>\n",
       "    <tr>\n",
       "      <th>1</th>\n",
       "      <td>1.756954</td>\n",
       "      <td>1.774313</td>\n",
       "      <td>1.704961</td>\n",
       "      <td>1.688196</td>\n",
       "    </tr>\n",
       "    <tr>\n",
       "      <th>2</th>\n",
       "      <td>2.653056</td>\n",
       "      <td>1.985612</td>\n",
       "      <td>2.634614</td>\n",
       "      <td>1.951443</td>\n",
       "    </tr>\n",
       "    <tr>\n",
       "      <th>3</th>\n",
       "      <td>2.041220</td>\n",
       "      <td>2.579980</td>\n",
       "      <td>1.936835</td>\n",
       "      <td>2.616906</td>\n",
       "    </tr>\n",
       "  </tbody>\n",
       "</table>\n",
       "</div>"
      ],
      "text/plain": [
       "   test_pred  valid_pred    y_test   y_valid\n",
       "0   3.282637    3.068421  3.280482  3.049192\n",
       "1   1.756954    1.774313  1.704961  1.688196\n",
       "2   2.653056    1.985612  2.634614  1.951443\n",
       "3   2.041220    2.579980  1.936835  2.616906"
      ]
     },
     "execution_count": 7,
     "metadata": {},
     "output_type": "execute_result"
    }
   ],
   "source": [
    "## Predictions\n",
    "\n",
    "predictions = model.predict(test_dataset)\n",
    "valid = model.predict(valid_dataset)\n",
    "results = pd.DataFrame(predictions, columns=['test_pred'])\n",
    "results['valid_pred'] = valid\n",
    "results['y_test'] = test_dataset.y\n",
    "results['y_valid'] = valid_dataset.y\n",
    "\n",
    "results.head(4)"
   ]
  },
  {
   "cell_type": "code",
   "execution_count": 10,
   "metadata": {},
   "outputs": [
    {
     "name": "stdout",
     "output_type": "stream",
     "text": [
      "computed_metrics: [9.128455]\n",
      "computed_metrics: [0.9977441649465533]\n",
      "computed_metrics: [148.19612]\n",
      "computed_metrics: [9.692232]\n",
      "computed_metrics: [0.9966452886111234]\n",
      "computed_metrics: [198.0144]\n"
     ]
    }
   ],
   "source": [
    "## Evaluation metrics\n",
    "\n",
    "metric = [\n",
    "    dc.metrics.Metric(dc.metrics.mean_absolute_error, mode=\"regression\"),\n",
    "    dc.metrics.Metric(dc.metrics.pearson_r2_score, mode=\"regression\"),\n",
    "    dc.metrics.Metric(dc.metrics.mean_squared_error, mode=\"regression\")\n",
    "]\n",
    "\n",
    "train_scores = model.evaluate(train_dataset, metric, transformers)\n",
    "valid_scores = model.evaluate(valid_dataset, metric, transformers)"
   ]
  },
  {
   "cell_type": "code",
   "execution_count": 11,
   "metadata": {
    "scrolled": false
   },
   "outputs": [
    {
     "data": {
      "image/png": "[encoded data removed]",
      "text/plain": [
       "<Figure size 576x432 with 1 Axes>"
      ]
     },
     "metadata": {
      "needs_background": "light"
     },
     "output_type": "display_data"
    },
    {
     "name": "stderr",
     "output_type": "stream",
     "text": [
      "/Users/nathalie.willems/anaconda3/envs/deepchem/lib/python3.5/site-packages/scipy/stats/stats.py:1713: FutureWarning: Using a non-tuple sequence for multidimensional indexing is deprecated; use `arr[tuple(seq)]` instead of `arr[seq]`. In the future this will be interpreted as an array index, `arr[np.array(seq)]`, which will result either in an error or a different result.\n",
      "  return np.add.reduce(sorted[indexer] * weights, axis=axis) / sumval\n"
     ]
    },
    {
     "data": {
      "image/png": "[encoded data removed]",
      "text/plain": [
       "<Figure size 504x504 with 1 Axes>"
      ]
     },
     "metadata": {
      "needs_background": "light"
     },
     "output_type": "display_data"
    },
    {
     "name": "stderr",
     "output_type": "stream",
     "text": [
      "/Users/nathalie.willems/anaconda3/envs/deepchem/lib/python3.5/site-packages/scipy/stats/stats.py:1713: FutureWarning: Using a non-tuple sequence for multidimensional indexing is deprecated; use `arr[tuple(seq)]` instead of `arr[seq]`. In the future this will be interpreted as an array index, `arr[np.array(seq)]`, which will result either in an error or a different result.\n",
      "  return np.add.reduce(sorted[indexer] * weights, axis=axis) / sumval\n"
     ]
    },
    {
     "data": {
      "image/png": "[encoded data removed]",
      "text/plain": [
       "<Figure size 504x504 with 1 Axes>"
      ]
     },
     "metadata": {
      "needs_background": "light"
     },
     "output_type": "display_data"
    }
   ],
   "source": [
    "## Plot results\n",
    "from sklearn import metrics \n",
    "\n",
    "pos = list(range(2))\n",
    "width = 0.25\n",
    "\n",
    "fig, ax = plt.subplots(figsize=(8,6))\n",
    "plt.bar(pos,[valid_scores['mean_absolute_error'], train_scores['mean_absolute_error']],width,alpha=0.5, label='mae')\n",
    "plt.bar([p + 1*width for p in pos], [np.sqrt(valid_scores['mean_squared_error']), np.sqrt(train_scores['mean_squared_error'])], width, \n",
    "        alpha=0.5, label='mse')\n",
    "\n",
    "ax.set_title('Error metrics for tested model')\n",
    "ax.set_xticks([p + 0.5 * width for p in pos])\n",
    "ax.set_xticklabels(['MAE', 'RMSE'])\n",
    "ax.set_ylabel('kcal/mol')\n",
    "\n",
    "plt.legend(['valid', 'test'], loc='upper left')\n",
    "plt.show()\n",
    "\n",
    "sns.pairplot(results, x_vars='y_valid', y_vars='valid_pred', height=7, aspect=1, kind='reg')\n",
    "plt.title(\"Neural network model on validation set\")\n",
    "plt.annotate('$R^2$=%.2f, MAE=%.2f' % (metrics.r2_score(valid_dataset.y, predictions), \n",
    "                                       metrics.mean_absolute_error(valid_dataset.y, predictions)), \n",
    "                                    xy=(0.05, 0.95), xycoords='axes fraction')\n",
    "plt.show()\n",
    "\n",
    "sns.pairplot(results, x_vars='y_test', y_vars='test_pred', height=7, aspect=1, kind='reg')\n",
    "plt.title(\"Neural network model on test set\")\n",
    "plt.annotate('$R^2$=%.2f, MAE=%.2f' % (metrics.r2_score(test_dataset.y, predictions), \n",
    "                                       metrics.mean_absolute_error(test_dataset.y, predictions)), \n",
    "                                    xy=(0.05, 0.95), xycoords='axes fraction')\n",
    "plt.show()\n",
    "\n",
    "# fig, ax = plt.subplots(1, 1, figsize=(8,6))\n",
    "# ax.bar(['train', 'test'], [train_scores['mean_absolute_error'], valid_scores['mean_absolute_error']])\n",
    "# #ax[1].bar(['mae', 'pearsons_r2'], test_scores)\n",
    "# plt.title(\"Deep tensor neural network\")\n",
    "# plt.ylabel(\"mean absolute error\")\n",
    "# plt.show()"
   ]
  },
  {
   "cell_type": "code",
   "execution_count": null,
   "metadata": {
    "scrolled": false
   },
   "outputs": [],
   "source": [
    "## Save model \n",
    "from sklearn.externals import joblib\n",
    "\n",
    "# save the model to disk\n",
    "# filename = 'dtnn_from_mat_22072019.sav'\n",
    "# joblib.dump(model, filename)\n",
    "model.get_params_filename(\"./\")"
   ]
  },
  {
   "cell_type": "code",
   "execution_count": null,
   "metadata": {},
   "outputs": [],
   "source": [
    "# serialize model to JSON\n",
    "model_json = model.to_json()\n",
    "with open(\"dtnn_from_mat_22072019.json\", \"w\") as json_file:\n",
    "    json_file.write(model_json)"
   ]
  },
  {
   "cell_type": "code",
   "execution_count": null,
   "metadata": {},
   "outputs": [],
   "source": []
  }
 ],
 "metadata": {
  "kernelspec": {
   "display_name": "Python 3",
   "language": "python",
   "name": "python3"
  },
  "language_info": {
   "codemirror_mode": {
    "name": "ipython",
    "version": 3
   },
   "file_extension": ".py",
   "mimetype": "text/x-python",
   "name": "python",
   "nbconvert_exporter": "python",
   "pygments_lexer": "ipython3",
   "version": "3.5.6"
  }
 },
 "nbformat": 4,
 "nbformat_minor": 2
}
