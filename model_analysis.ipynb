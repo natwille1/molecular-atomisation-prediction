{
 "cells": [
  {
   "cell_type": "code",
   "execution_count": 1,
   "metadata": {},
   "outputs": [
    {
     "name": "stdout",
     "output_type": "stream",
     "text": [
      "WARNING:tensorflow:From /Users/nathalie.willems/anaconda3/envs/deepchem/lib/python3.5/site-packages/tensorflow/python/ops/resource_variable_ops.py:435: colocate_with (from tensorflow.python.framework.ops) is deprecated and will be removed in a future version.\n",
      "Instructions for updating:\n",
      "Colocations handled automatically by placer.\n",
      "WARNING:tensorflow:From /Users/nathalie.willems/anaconda3/envs/deepchem/lib/python3.5/site-packages/tensorflow/python/ops/math_ops.py:3066: to_int32 (from tensorflow.python.ops.math_ops) is deprecated and will be removed in a future version.\n",
      "Instructions for updating:\n",
      "Use tf.cast instead.\n"
     ]
    }
   ],
   "source": [
    "import numpy as np\n",
    "from sklearn import metrics \n",
    "import matplotlib.pyplot as plt\n",
    "import seaborn as sns\n",
    "import pandas as pd\n",
    "import tensorflow as tf\n",
    "import deepchem as dc\n",
    "from tensorflow import keras\n",
    "import joblib\n",
    "from deepchem.utils.save import load_from_disk\n",
    "from deepchem.models.sklearn_models import SklearnModel\n",
    "\n",
    "sns.set()\n",
    "\n",
    "\n",
    "## Keras model - binarised representation\n",
    "\n",
    "keras_bin = keras.models.load_model(\"keras_from_mat_sgd_0.001_400_100_18072019.h5\")\n",
    "\n",
    "## Keras model - eigenspectrum representation\n",
    "\n",
    "keras_eig = keras.models.load_model(\"keras_from_mat_eigenspectrum_23072019.h5\")\n",
    "\n",
    "## KRR model - binarised representation\n",
    "\n",
    "krr_bin = joblib.load(open(\"krr_binarised_laplacian_24072019.sav\", \"rb\"))\n",
    "\n",
    "## KRR model - eigenspectrum representation \n",
    "\n",
    "krr_eig = joblib.load(open(\"krr_eig_laplacian_24072019.sav\", \"rb\"))\n",
    "\n",
    "\n",
    "models = {}\n",
    "models['keras_bin'] = [keras_bin]\n",
    "models['keras_eig'] = [keras_eig]\n",
    "models['krr_bin'] = [krr_bin]\n",
    "models['krr_eig'] = [krr_eig]"
   ]
  },
  {
   "cell_type": "code",
   "execution_count": 2,
   "metadata": {},
   "outputs": [
    {
     "name": "stdout",
     "output_type": "stream",
     "text": [
      "Loading raw samples now.\n",
      "shard_size: 8192\n",
      "Reading structures from raw_data/gdb7.sdf.\n",
      "Currently featurizing feature_type: CoulombMatrix\n",
      "Featurizing sample 0\n",
      "Featurizing sample 1000\n",
      "Featurizing sample 2000\n",
      "Featurizing sample 3000\n",
      "Featurizing sample 4000\n",
      "Featurizing sample 5000\n",
      "Featurizing sample 6000\n",
      "Featurizing sample 7000\n",
      "TIMING: featurizing shard 0 took 3.555 s\n",
      "TIMING: dataset construction took 5.494 s\n",
      "Loading dataset from disk.\n",
      "Loading raw samples now.\n",
      "shard_size: 8192\n",
      "Reading structures from raw_data/gdb7.sdf.\n",
      "Currently featurizing feature_type: CoulombMatrixEig\n",
      "Featurizing sample 0\n",
      "Featurizing sample 1000\n",
      "Featurizing sample 2000\n",
      "Featurizing sample 3000\n",
      "Featurizing sample 4000\n",
      "Featurizing sample 5000\n",
      "Featurizing sample 6000\n",
      "Featurizing sample 7000\n",
      "TIMING: featurizing shard 0 took 5.098 s\n",
      "TIMING: dataset construction took 6.556 s\n",
      "Loading dataset from disk.\n"
     ]
    }
   ],
   "source": [
    "## Load data set\n",
    "\n",
    "dataset_file = \"raw_data/gdb7.sdf\"\n",
    "\n",
    "tasks = [\"u0_atom\"]\n",
    "\n",
    "## Raw dataset\n",
    "featurizer = dc.feat.CoulombMatrix(max_atoms=23)\n",
    "\n",
    "loader = dc.data.SDFLoader(\n",
    "  tasks=['u0_atom'],\n",
    "  smiles_field=\"smiles\",\n",
    "  mol_field=\"mol\",\n",
    "  featurizer=featurizer)\n",
    "\n",
    "## Eigenvector dataset\n",
    "dataset = loader.featurize(dataset_file)\n",
    "\n",
    "eig_featurizer = dc.feat.CoulombMatrixEig(23, remove_hydrogens=False)\n",
    "\n",
    "data_loader_eig = dc.data.SDFLoader(\n",
    "      tasks=[\"u0_atom\"], smiles_field=\"smiles\",\n",
    "      featurizer=eig_featurizer,\n",
    "      mol_field=\"mol\")\n",
    "\n",
    "dataset_eig = data_loader_eig.featurize(dataset_file)\n"
   ]
  },
  {
   "cell_type": "code",
   "execution_count": 3,
   "metadata": {},
   "outputs": [],
   "source": [
    "def split_transformer(splitter, trans_func, dataset):\n",
    "    train, valid, test = splitter.train_valid_test_split(dataset)\n",
    "    if trans_func == 'normaliser':\n",
    "        normaliser = dc.trans.NormalizationTransformer(transform_X=True, dataset=train, move_mean=True)\n",
    "        train, valid, test = (normaliser.transform(train), normaliser.transform(valid), normaliser.transform(test))\n",
    "        print(\"normalised train: \", train.X[0])\n",
    "    elif trans_func == 'binariser':\n",
    "        binariser = dc.trans.CoulombFitTransformer(dataset=train)\n",
    "        train, valid, test = (binariser.transform(train), binariser.transform(valid), binariser.transform(test))\n",
    "        print(\"binased train: \", train.X[0])\n",
    "    print(\"returned train: \", train.X[0])\n",
    "    return train, valid, test"
   ]
  },
  {
   "cell_type": "code",
   "execution_count": 4,
   "metadata": {},
   "outputs": [
    {
     "name": "stdout",
     "output_type": "stream",
     "text": [
      "TIMING: dataset construction took 0.076 s\n",
      "Loading dataset from disk.\n",
      "TIMING: dataset construction took 0.034 s\n",
      "Loading dataset from disk.\n",
      "TIMING: dataset construction took 0.027 s\n",
      "Loading dataset from disk.\n"
     ]
    },
    {
     "name": "stderr",
     "output_type": "stream",
     "text": [
      "/Users/nathalie.willems/anaconda3/envs/deepchem/lib/python3.5/site-packages/deepchem/trans/transformers.py:148: RuntimeWarning: divide by zero encountered in true_divide\n",
      "  X = np.nan_to_num((X - self.X_means) / self.X_stds)\n",
      "/Users/nathalie.willems/anaconda3/envs/deepchem/lib/python3.5/site-packages/deepchem/trans/transformers.py:148: RuntimeWarning: invalid value encountered in true_divide\n",
      "  X = np.nan_to_num((X - self.X_means) / self.X_stds)\n"
     ]
    },
    {
     "name": "stdout",
     "output_type": "stream",
     "text": [
      "TIMING: dataset construction took 0.061 s\n",
      "Loading dataset from disk.\n",
      "TIMING: dataset construction took 0.014 s\n",
      "Loading dataset from disk.\n",
      "TIMING: dataset construction took 0.016 s\n",
      "Loading dataset from disk.\n",
      "normalised train:  [-1.1351866  -3.08033544 -6.20500294 -6.72806288 -7.26998732 -5.28979259\n",
      " -2.29389992 -3.02521413 -6.72814671 -5.38843971 -4.15919107 -3.4065704\n",
      " -2.41143573 -1.72445238 -1.35154592 -0.95166217 -0.76104596 -0.52347132\n",
      " -0.39417538 -0.25240125 -0.14911338 -0.07371591  0.        ]\n",
      "returned train:  [-1.1351866  -3.08033544 -6.20500294 -6.72806288 -7.26998732 -5.28979259\n",
      " -2.29389992 -3.02521413 -6.72814671 -5.38843971 -4.15919107 -3.4065704\n",
      " -2.41143573 -1.72445238 -1.35154592 -0.95166217 -0.76104596 -0.52347132\n",
      " -0.39417538 -0.25240125 -0.14911338 -0.07371591  0.        ]\n",
      "TIMING: dataset construction took 0.390 s\n",
      "Loading dataset from disk.\n",
      "TIMING: dataset construction took 0.182 s\n",
      "Loading dataset from disk.\n",
      "TIMING: dataset construction took 0.181 s\n",
      "Loading dataset from disk.\n",
      "TIMING: dataset construction took 2.186 s\n",
      "Loading dataset from disk.\n",
      "TIMING: dataset construction took 0.281 s\n",
      "Loading dataset from disk.\n",
      "TIMING: dataset construction took 0.274 s\n",
      "Loading dataset from disk.\n",
      "binased train:  [ 6.55678354e-04  1.37443352e-03  1.64962816e-03 ... -2.71132035e-16\n",
      " -1.97024252e-04 -1.27682409e-04]\n",
      "returned train:  [ 6.55678354e-04  1.37443352e-03  1.64962816e-03 ... -2.71132035e-16\n",
      " -1.97024252e-04 -1.27682409e-04]\n",
      "((5728, 23), (5728, 1), (5728, 1), (5728,))\n",
      "((5728, 2099), (5728, 1), (5728, 1), (5728,))\n"
     ]
    }
   ],
   "source": [
    "## Split and transform datasets\n",
    "\n",
    "splitter = dc.splits.SingletaskStratifiedSplitter(task_number=0)\n",
    "\n",
    "train_eig, valid_eig, test_eig = split_transformer(splitter, 'normaliser', dataset_eig)\n",
    "train_bin, valid_bin, test_bin = split_transformer(splitter, 'binariser', dataset)\n",
    "\n",
    "print(train_eig.get_shape())\n",
    "print(train_bin.get_shape())\n"
   ]
  },
  {
   "cell_type": "code",
   "execution_count": 9,
   "metadata": {},
   "outputs": [],
   "source": [
    "## Test data \n",
    "X_test = test_eig.X\n",
    "y_test = test_eig.y\n",
    "\n",
    "X_bin_test = test_bin.X[:, :2089]\n",
    "y_bin_test = test_bin.y[:, :2089]\n",
    "\n",
    "keras_bin_pred = models['keras_bin'][0].predict(X_bin_test)\n",
    "predictions = pd.DataFrame(keras_bin_pred, columns=['keras_bin'])\n",
    "predictions['krr_bin'] = models['krr_bin'][0].predict(X_bin_test) \n",
    "predictions['keras_eig'] = models['keras_eig'][0].predict(X_test)\n",
    "predictions['krr_eig']  = models['krr_eig'][0].predict(X_test)\n",
    "\n"
   ]
  },
  {
   "cell_type": "code",
   "execution_count": 10,
   "metadata": {},
   "outputs": [],
   "source": [
    "# Error analysis\n",
    "\n",
    "errors = {}\n",
    "\n",
    "for model in models:\n",
    "    if 'bin' in model:\n",
    "        errors[model] = {'mae': metrics.mean_absolute_error(y_bin_test, predictions[model]), \n",
    "                        'mse': np.sqrt(metrics.mean_squared_error(y_bin_test, predictions[model]))}\n",
    "    else:\n",
    "        errors[model] = {'mae': metrics.mean_absolute_error(y_test, predictions[model]), \n",
    "                        'mse': np.sqrt(metrics.mean_squared_error(y_test, predictions[model]))}\n"
   ]
  },
  {
   "cell_type": "code",
   "execution_count": 11,
   "metadata": {},
   "outputs": [
    {
     "data": {
      "image/png": "[encoded data removed]",
      "text/plain": [
       "<Figure size 864x576 with 1 Axes>"
      ]
     },
     "metadata": {
      "needs_background": "light"
     },
     "output_type": "display_data"
    }
   ],
   "source": [
    "\n",
    "pos = [0,1,2,3]\n",
    "width = 0.25\n",
    "\n",
    "fig, ax = plt.subplots(figsize=(12,8))\n",
    "\n",
    "plt.bar(pos, \n",
    "        [errors[model]['mae'] for model in errors], \n",
    "        width, \n",
    "        alpha=0.5, \n",
    "        label='MAE') \n",
    "\n",
    "plt.bar([p+width for p in pos], \n",
    "        [errors[model]['mse'] for model in errors], \n",
    "        width, \n",
    "        alpha=0.5, \n",
    "        label='MsE') \n",
    "\n",
    "ax.set_ylabel('Error')\n",
    "ax.set_title('Error Metrics of Models on Test Set')\n",
    "ax.set_xticks([p + 0.15 for p in pos])\n",
    "ax.set_xticklabels(['keras_bin', 'keras_eig', 'krr_bin', 'krr_eig'])\n",
    "ax.legend(['MAE', 'MSE'])\n",
    "plt.show()\n",
    "\n"
   ]
  }
 ],
 "metadata": {
  "kernelspec": {
   "display_name": "Python 3",
   "language": "python",
   "name": "python3"
  },
  "language_info": {
   "codemirror_mode": {
    "name": "ipython",
    "version": 3
   },
   "file_extension": ".py",
   "mimetype": "text/x-python",
   "name": "python",
   "nbconvert_exporter": "python",
   "pygments_lexer": "ipython3",
   "version": "3.5.6"
  }
 },
 "nbformat": 4,
 "nbformat_minor": 2
}
